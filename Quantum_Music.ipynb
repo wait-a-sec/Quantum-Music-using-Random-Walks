{
  "nbformat": 4,
  "nbformat_minor": 0,
  "metadata": {
    "colab": {
      "name": "Quantum Music.ipynb",
      "provenance": [],
      "collapsed_sections": []
    },
    "kernelspec": {
      "name": "python3",
      "display_name": "Python 3"
    },
    "language_info": {
      "name": "python"
    }
  },
  "cells": [
    {
      "cell_type": "code",
      "metadata": {
        "colab": {
          "base_uri": "https://localhost:8080/"
        },
        "id": "oQ8pqm2e89SE",
        "outputId": "e17b2ae6-2f8e-4e6c-e5c3-82f59c640e4d"
      },
      "source": [
        "#install qiskit library\n",
        "pip install qiskit"
      ],
      "execution_count": null,
      "outputs": [
        {
          "output_type": "stream",
          "name": "stdout",
          "text": [
            "Requirement already satisfied: qiskit in /usr/local/lib/python3.7/dist-packages (0.32.1)\n",
            "Requirement already satisfied: qiskit-aqua==0.9.5 in /usr/local/lib/python3.7/dist-packages (from qiskit) (0.9.5)\n",
            "Requirement already satisfied: qiskit-terra==0.18.3 in /usr/local/lib/python3.7/dist-packages (from qiskit) (0.18.3)\n",
            "Requirement already satisfied: qiskit-aer==0.9.1 in /usr/local/lib/python3.7/dist-packages (from qiskit) (0.9.1)\n",
            "Requirement already satisfied: qiskit-ibmq-provider==0.18.1 in /usr/local/lib/python3.7/dist-packages (from qiskit) (0.18.1)\n",
            "Requirement already satisfied: qiskit-ignis==0.6.0 in /usr/local/lib/python3.7/dist-packages (from qiskit) (0.6.0)\n",
            "Requirement already satisfied: scipy>=1.0 in /usr/local/lib/python3.7/dist-packages (from qiskit-aer==0.9.1->qiskit) (1.4.1)\n",
            "Requirement already satisfied: numpy>=1.16.3 in /usr/local/lib/python3.7/dist-packages (from qiskit-aer==0.9.1->qiskit) (1.19.5)\n",
            "Requirement already satisfied: setuptools>=40.1.0 in /usr/local/lib/python3.7/dist-packages (from qiskit-aqua==0.9.5->qiskit) (57.4.0)\n",
            "Requirement already satisfied: scikit-learn>=0.20.0 in /usr/local/lib/python3.7/dist-packages (from qiskit-aqua==0.9.5->qiskit) (1.0.1)\n",
            "Requirement already satisfied: retworkx>=0.8.0 in /usr/local/lib/python3.7/dist-packages (from qiskit-aqua==0.9.5->qiskit) (0.10.2)\n",
            "Requirement already satisfied: psutil>=5 in /usr/local/lib/python3.7/dist-packages (from qiskit-aqua==0.9.5->qiskit) (5.4.8)\n",
            "Requirement already satisfied: dlx<=1.0.4 in /usr/local/lib/python3.7/dist-packages (from qiskit-aqua==0.9.5->qiskit) (1.0.4)\n",
            "Requirement already satisfied: h5py<3.3.0 in /usr/local/lib/python3.7/dist-packages (from qiskit-aqua==0.9.5->qiskit) (3.1.0)\n",
            "Requirement already satisfied: pandas in /usr/local/lib/python3.7/dist-packages (from qiskit-aqua==0.9.5->qiskit) (1.1.5)\n",
            "Requirement already satisfied: quandl in /usr/local/lib/python3.7/dist-packages (from qiskit-aqua==0.9.5->qiskit) (3.7.0)\n",
            "Requirement already satisfied: fastdtw<=0.3.4 in /usr/local/lib/python3.7/dist-packages (from qiskit-aqua==0.9.5->qiskit) (0.3.4)\n",
            "Requirement already satisfied: sympy>=1.3 in /usr/local/lib/python3.7/dist-packages (from qiskit-aqua==0.9.5->qiskit) (1.7.1)\n",
            "Requirement already satisfied: yfinance>=0.1.62 in /usr/local/lib/python3.7/dist-packages (from qiskit-aqua==0.9.5->qiskit) (0.1.67)\n",
            "Requirement already satisfied: docplex>=2.21.207 in /usr/local/lib/python3.7/dist-packages (from qiskit-aqua==0.9.5->qiskit) (2.22.213)\n",
            "Requirement already satisfied: requests>=2.19 in /usr/local/lib/python3.7/dist-packages (from qiskit-ibmq-provider==0.18.1->qiskit) (2.23.0)\n",
            "Requirement already satisfied: websocket-client>=1.0.1 in /usr/local/lib/python3.7/dist-packages (from qiskit-ibmq-provider==0.18.1->qiskit) (1.2.1)\n",
            "Requirement already satisfied: python-dateutil>=2.8.0 in /usr/local/lib/python3.7/dist-packages (from qiskit-ibmq-provider==0.18.1->qiskit) (2.8.2)\n",
            "Requirement already satisfied: requests-ntlm>=1.1.0 in /usr/local/lib/python3.7/dist-packages (from qiskit-ibmq-provider==0.18.1->qiskit) (1.1.0)\n",
            "Requirement already satisfied: urllib3>=1.21.1 in /usr/local/lib/python3.7/dist-packages (from qiskit-ibmq-provider==0.18.1->qiskit) (1.24.3)\n",
            "Requirement already satisfied: tweedledum<2.0,>=1.1 in /usr/local/lib/python3.7/dist-packages (from qiskit-terra==0.18.3->qiskit) (1.1.1)\n",
            "Requirement already satisfied: dill>=0.3 in /usr/local/lib/python3.7/dist-packages (from qiskit-terra==0.18.3->qiskit) (0.3.4)\n",
            "Requirement already satisfied: python-constraint>=1.4 in /usr/local/lib/python3.7/dist-packages (from qiskit-terra==0.18.3->qiskit) (1.4.0)\n",
            "Requirement already satisfied: jsonschema>=2.6 in /usr/local/lib/python3.7/dist-packages (from qiskit-terra==0.18.3->qiskit) (2.6.0)\n",
            "Requirement already satisfied: fastjsonschema>=2.10 in /usr/local/lib/python3.7/dist-packages (from qiskit-terra==0.18.3->qiskit) (2.15.1)\n",
            "Requirement already satisfied: symengine>0.7 in /usr/local/lib/python3.7/dist-packages (from qiskit-terra==0.18.3->qiskit) (0.8.1)\n",
            "Requirement already satisfied: ply>=3.10 in /usr/local/lib/python3.7/dist-packages (from qiskit-terra==0.18.3->qiskit) (3.11)\n",
            "Requirement already satisfied: six in /usr/local/lib/python3.7/dist-packages (from docplex>=2.21.207->qiskit-aqua==0.9.5->qiskit) (1.15.0)\n",
            "Requirement already satisfied: cached-property in /usr/local/lib/python3.7/dist-packages (from h5py<3.3.0->qiskit-aqua==0.9.5->qiskit) (1.5.2)\n",
            "Requirement already satisfied: certifi>=2017.4.17 in /usr/local/lib/python3.7/dist-packages (from requests>=2.19->qiskit-ibmq-provider==0.18.1->qiskit) (2021.10.8)\n",
            "Requirement already satisfied: idna<3,>=2.5 in /usr/local/lib/python3.7/dist-packages (from requests>=2.19->qiskit-ibmq-provider==0.18.1->qiskit) (2.10)\n",
            "Requirement already satisfied: chardet<4,>=3.0.2 in /usr/local/lib/python3.7/dist-packages (from requests>=2.19->qiskit-ibmq-provider==0.18.1->qiskit) (3.0.4)\n",
            "Requirement already satisfied: ntlm-auth>=1.0.2 in /usr/local/lib/python3.7/dist-packages (from requests-ntlm>=1.1.0->qiskit-ibmq-provider==0.18.1->qiskit) (1.5.0)\n",
            "Requirement already satisfied: cryptography>=1.3 in /usr/local/lib/python3.7/dist-packages (from requests-ntlm>=1.1.0->qiskit-ibmq-provider==0.18.1->qiskit) (36.0.0)\n",
            "Requirement already satisfied: cffi>=1.12 in /usr/local/lib/python3.7/dist-packages (from cryptography>=1.3->requests-ntlm>=1.1.0->qiskit-ibmq-provider==0.18.1->qiskit) (1.15.0)\n",
            "Requirement already satisfied: pycparser in /usr/local/lib/python3.7/dist-packages (from cffi>=1.12->cryptography>=1.3->requests-ntlm>=1.1.0->qiskit-ibmq-provider==0.18.1->qiskit) (2.21)\n",
            "Requirement already satisfied: joblib>=0.11 in /usr/local/lib/python3.7/dist-packages (from scikit-learn>=0.20.0->qiskit-aqua==0.9.5->qiskit) (1.1.0)\n",
            "Requirement already satisfied: threadpoolctl>=2.0.0 in /usr/local/lib/python3.7/dist-packages (from scikit-learn>=0.20.0->qiskit-aqua==0.9.5->qiskit) (3.0.0)\n",
            "Requirement already satisfied: mpmath>=0.19 in /usr/local/lib/python3.7/dist-packages (from sympy>=1.3->qiskit-aqua==0.9.5->qiskit) (1.2.1)\n",
            "Requirement already satisfied: multitasking>=0.0.7 in /usr/local/lib/python3.7/dist-packages (from yfinance>=0.1.62->qiskit-aqua==0.9.5->qiskit) (0.0.10)\n",
            "Requirement already satisfied: lxml>=4.5.1 in /usr/local/lib/python3.7/dist-packages (from yfinance>=0.1.62->qiskit-aqua==0.9.5->qiskit) (4.6.4)\n",
            "Requirement already satisfied: pytz>=2017.2 in /usr/local/lib/python3.7/dist-packages (from pandas->qiskit-aqua==0.9.5->qiskit) (2018.9)\n",
            "Requirement already satisfied: inflection>=0.3.1 in /usr/local/lib/python3.7/dist-packages (from quandl->qiskit-aqua==0.9.5->qiskit) (0.5.1)\n",
            "Requirement already satisfied: more-itertools in /usr/local/lib/python3.7/dist-packages (from quandl->qiskit-aqua==0.9.5->qiskit) (8.12.0)\n"
          ]
        }
      ]
    },
    {
      "cell_type": "code",
      "metadata": {
        "id": "CmEgPD---fsm"
      },
      "source": [
        "from qiskit import *\n",
        "\n",
        "#build the circuit for random walk on a cube\n",
        "def circ(input):\n",
        "  qc = QuantumCircuit(5,3)\n",
        "  for i, v in enumerate(input):\n",
        "    #This encodes the output state from previous run as input in the next circuit\n",
        "    if v=='1':\n",
        "      qc.x(2-i)\n",
        "  qc.h(3)\n",
        "  qc.h(4)\n",
        "  qc.cx(4, 0)\n",
        "  qc.x(4)\n",
        "  qc.cx(4, 1)\n",
        "  qc.cx(3, 2)\n",
        "  qc.ccx(4, 3, 1)\n",
        "  qc.x(4)\n",
        "  qc.ccx(4, 3, 0)\n",
        "  qc.x(4)\n",
        "  qc.ccx(4, 3, 2)\n",
        "  qc.barrier(range(3))\n",
        "  qc.measure([0,1,2],[0,1,2])\n",
        "  return qc"
      ],
      "execution_count": null,
      "outputs": []
    },
    {
      "cell_type": "code",
      "metadata": {
        "id": "brTOEuh4Df3P"
      },
      "source": [
        "from qiskit import Aer\n",
        "backend_sim = Aer.get_backend('qasm_simulator')"
      ],
      "execution_count": null,
      "outputs": []
    },
    {
      "cell_type": "code",
      "metadata": {
        "id": "SR-L44F1G_ZS"
      },
      "source": [
        "#Initialize the first note\n",
        "notes = ['001']\n",
        "\n",
        "#Generate a sequence of 101 notes\n",
        "for i in range(100):\n",
        "  qc = circ(notes[i])\n",
        "  job_sim = backend_sim.run(transpile(qc, backend_sim), shots=1024)\n",
        "  result_sim = job_sim.result()\n",
        "  counts = result_sim.get_counts(qc)\n",
        "  max_key = max(counts, key=counts.get)\n",
        "  notes.append(max_key)\n",
        "\n",
        "#Initialize the first rhythm\n",
        "rhythm = ['000']\n",
        "\n",
        "#Generate a sequence of 101 rhythms\n",
        "for i in range(100):\n",
        "  qc = circ(rhythm[i])\n",
        "  job_sim = backend_sim.run(transpile(qc, backend_sim), shots=1024)\n",
        "  result_sim = job_sim.result()\n",
        "  counts = result_sim.get_counts(qc)\n",
        "  max_key = max(counts, key=counts.get)\n",
        "  rhythm.append(max_key)"
      ],
      "execution_count": null,
      "outputs": []
    },
    {
      "cell_type": "code",
      "metadata": {
        "colab": {
          "base_uri": "https://localhost:8080/"
        },
        "id": "8n6-IWZ7Jh6y",
        "outputId": "b496e3f7-3ded-41f6-f5e0-347187d26a07"
      },
      "source": [
        "print(notes)\n",
        "print(rhythm)"
      ],
      "execution_count": null,
      "outputs": [
        {
          "output_type": "stream",
          "name": "stdout",
          "text": [
            "['001', '000', '010', '110', '100', '000', '001', '101', '111', '101', '100', '100', '000', '010', '000', '000', '100', '100', '101', '001', '101', '111', '111', '011', '111', '011', '010', '000', '100', '110', '110', '110', '010', '010', '011', '010', '110', '100', '100', '000', '000', '010', '011', '010', '110', '111', '101', '101', '001', '101', '101', '001', '000', '010', '011', '001', '101', '100', '000', '010', '000', '001', '001', '011', '010', '011', '111', '110', '100', '100', '100', '110', '010', '010', '110', '110', '100', '101', '100', '110', '110', '111', '110', '100', '100', '101', '100', '000', '010', '110', '100', '000', '000', '000', '001', '101', '111', '011', '111', '101', '001']\n",
            "['000', '010', '000', '000', '000', '001', '011', '001', '001', '001', '101', '100', '100', '100', '000', '010', '000', '100', '100', '000', '001', '000', '000', '100', '101', '100', '000', '010', '000', '010', '000', '000', '010', '000', '000', '001', '000', '001', '001', '101', '101', '100', '100', '100', '100', '100', '000', '010', '110', '111', '101', '101', '001', '101', '001', '001', '011', '001', '000', '001', '101', '101', '101', '001', '000', '100', '000', '010', '110', '010', '000', '000', '001', '001', '000', '100', '101', '100', '000', '001', '101', '100', '101', '100', '100', '101', '100', '000', '001', '000', '010', '011', '011', '011', '011', '001', '001', '101', '111', '110', '111']\n"
          ]
        }
      ]
    },
    {
      "cell_type": "code",
      "metadata": {
        "id": "HkDH-uaKHe5b"
      },
      "source": [
        "#Encoding the ouput quantum states to a particular pitch\n",
        "#The numbers correspond to a MIDI frequency \n",
        "note_dic = {'000':60, '001':62, '100':64, '010':65, '011':67, '101':69, '111':71, '110':72}"
      ],
      "execution_count": null,
      "outputs": []
    },
    {
      "cell_type": "code",
      "metadata": {
        "id": "5p4oOVTCSHyC"
      },
      "source": [
        "#Encoding the ouput quantum states to a particular rhythmic beat\n",
        "rhythm_dic = {'000':4, '001':3, '100':1, '010':2, '011':1.5, '101':0.75, '111':0.25, '110':0.5}"
      ],
      "execution_count": null,
      "outputs": []
    },
    {
      "cell_type": "code",
      "metadata": {
        "colab": {
          "base_uri": "https://localhost:8080/"
        },
        "id": "bgOX3yNBTTZ4",
        "outputId": "690271f4-c95c-49c5-9ab8-005770f6bfbb"
      },
      "source": [
        "#Library to create a MIDI file\n",
        "pip install MIDIUtil"
      ],
      "execution_count": null,
      "outputs": [
        {
          "output_type": "stream",
          "name": "stdout",
          "text": [
            "Requirement already satisfied: MIDIUtil in /usr/local/lib/python3.7/dist-packages (1.2.1)\n"
          ]
        }
      ]
    },
    {
      "cell_type": "code",
      "metadata": {
        "id": "Tlnlh9hwTcnY"
      },
      "source": [
        "from midiutil import MIDIFile\n",
        "\n",
        "track    = 0\n",
        "channel  = 2\n",
        "time     = 0   #time at which the note will be played\n",
        "duration = 1   #The duration/beat note will be played for\n",
        "tempo    = 80  #Tempo of the whole arrangement\n",
        "volume   = 100\n",
        "\n",
        "#Create a single track\n",
        "MyMIDI = MIDIFile(1)\n",
        "MyMIDI.addTempo(track,time, tempo)\n",
        "\n",
        "for i in range (len(notes)):\n",
        "\n",
        "  #Duration of the note taken from the generated rhythm sequence\n",
        "  duration = rhythm_dic.get(rhythm[i])\n",
        "\n",
        "  #Pitch of the note taken from the generated note sequence\n",
        "  pitch = note_dic.get(notes[i])\n",
        "\n",
        "  #Add the note for the current duration\n",
        "  #A fifth, seventh and lower octave of the note\n",
        "  MyMIDI.addNote(track, channel, pitch, time, duration, volume)\n",
        "  MyMIDI.addNote(track, channel, pitch-5, time, duration, volume)\n",
        "  MyMIDI.addNote(track, channel, pitch-7, time, duration, volume)\n",
        "  MyMIDI.addNote(track, channel, pitch-12, time, duration, volume)\n",
        "  time = duration + time + 0.25\n",
        "\n",
        "#output the arrangement to a MIDI file\n",
        "with open(\"Quantum.mid\", \"wb\") as output_file:\n",
        "    MyMIDI.writeFile(output_file)"
      ],
      "execution_count": null,
      "outputs": []
    },
    {
      "cell_type": "code",
      "metadata": {
        "id": "1hx5ZFrGVTHO"
      },
      "source": [
        ""
      ],
      "execution_count": null,
      "outputs": []
    }
  ]
}