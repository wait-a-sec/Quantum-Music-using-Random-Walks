{
  "nbformat": 4,
  "nbformat_minor": 0,
  "metadata": {
    "colab": {
      "name": "Quantum Music.ipynb",
      "provenance": [],
      "collapsed_sections": []
    },
    "kernelspec": {
      "name": "python3",
      "display_name": "Python 3"
    },
    "language_info": {
      "name": "python"
    }
  },
  "cells": [
    {
      "cell_type": "code",
      "metadata": {},
      "source": [
        "#install qiskit library\n",
        "!pip install qiskit"
      ],
      "execution_count": null,
      "outputs": []
    },
    {
      "cell_type": "markdown",
      "metadata": {
        "id": "brTOEuh4Df3P"
      },
      "source": [
        "The circuit takes inspiration from the work:\n",
        "Miranda, E.R., Basak, S. (2022). Quantum Computer Music: Foundations and Initial Experiments. In: Miranda, E.R. (eds) Quantum Computer Music. Springer, Cham. https://doi.org/10.1007/978-3-031[...]"
      ]
    },
    {
      "cell_type": "code",
      "metadata": {
        "id": "CmEgPD---fsm"
      },
      "source": [
        "from qiskit import *\n",
        "\n",
        "#build the circuit for random walk on a cube\n",
        "def circ(input):\n",
        "  qc = QuantumCircuit(5, 3)\n",
        "  for i, v in enumerate(input):\n",
        "    #This encodes the output state from previous run as input in the next circuit\n",
        "    if v == '1':\n",
        "      qc.x(2 - i)\n",
        "  qc.h(3)\n",
        "  qc.h(4)\n",
        "  qc.cx(4, 0)\n",
        "  qc.x(4)\n",
        "  qc.cx(4, 1)\n",
        "  qc.cx(3, 2)\n",
        "  qc.ccx(4, 3, 1)\n",
        "  qc.x(4)\n",
        "  qc.ccx(4, 3, 0)\n",
        "  qc.x(4)\n",
        "  qc.ccx(4, 3, 2)\n",
        "  qc.barrier(range(3))\n",
        "  qc.measure([0, 1, 2], [0, 1, 2])\n",
        "  return qc"
      ],
      "execution_count": null,
      "outputs": []
    },
    {
      "cell_type": "code",
      "metadata": {
        "id": "brTOEuh4Df3P"
      },
      "source": [
        "from qiskit import Aer\n",
        "backend_sim = Aer.get_backend('qasm_simulator')"
      ],
      "execution_count": null,
      "outputs": []
    },
    {
      "cell_type": "code",
      "metadata": {
        "id": "SR-L44F1G_ZS"
      },
      "source": [
        "#Initialize the first note\n",
        "notes = ['001']\n",
        "\n",
        "#Generate a sequence of 101 notes\n",
        "for i in range(100):\n",
        "  qc = circ(notes[i])\n",
        "  job_sim = backend_sim.run(transpile(qc, backend_sim), shots=1024)\n",
        "  result_sim = job_sim.result()\n",
        "  counts = result_sim.get_counts(qc)\n",
        "  max_key = max(counts, key=counts.get)\n",
        "  notes.append(max_key)\n",
        "\n",
        "#Initialize the first rhythm\n",
        "rhythm = ['000']\n",
        "\n",
        "#Generate a sequence of 101 rhythms\n",
        "for i in range(100):\n",
        "  qc = circ(rhythm[i])\n",
        "  job_sim = backend_sim.run(transpile(qc, backend_sim), shots=1024)\n",
        "  result_sim = job_sim.result()\n",
        "  counts = result_sim.get_counts(qc)\n",
        "  max_key = max(counts, key=counts.get)\n",
        "  rhythm.append(max_key)"
      ],
      "execution_count": null,
      "outputs": []
    },
    {
      "cell_type": "code",
      "metadata": {
        "colab": {
          "base_uri": "https://localhost:8080/"
        },
        "id": "8n6-IWZ7Jh6y",
        "outputId": "b496e3f7-3ded-41f6-f5e0-347187d26a07"
      },
      "source": [
        "print(notes)\n",
        "print(rhythm)"
      ],
      "execution_count": null,
      "outputs": [
        {
          "output_type": "stream",
          "name": "stdout",
          "text": [
            "['001', '000', '010', '110', '100', '000', '001', '101', '111', '101', '100', '100', '000', '010', '000', '000', '100', '100', '101', '001', '101', '111', '111', '011', '111', '011', '010[...]"
            "['000', '010', '000', '000', '000', '001', '011', '001', '001', '001', '101', '100', '100', '100', '000', '010', '000', '100', '100', '000', '001', '000', '000', '100', '101', '100', '000[...]"
          ]
        }
      ]
    },
    {
      "cell_type": "code",
      "metadata": {
        "id": "HkDH-uaKHe5b"
      },
      "source": [
        "#Encoding the output quantum states to a particular pitch\n",
        "#The numbers correspond to a MIDI frequency \n",
        "note_dic = {'000':60, '001':62, '100':64, '010':65, '011':67, '101':69, '111':71, '110':72}"
      ],
      "execution_count": null,
      "outputs": []
    },
    {
      "cell_type": "code",
      "metadata": {
        "id": "5p4oOVTCSHyC"
      },
      "source": [
        "#Encoding the output quantum states to a particular rhythmic beat\n",
        "rhythm_dic = {'000':4, '001':3, '100':1, '010':2, '011':1.5, '101':0.75, '111':0.25, '110':0.5}"
      ],
      "execution_count": null,
      "outputs": []
    },
    {
      "cell_type": "code",
      "metadata": {
        "colab": {
          "base_uri": "https://localhost:8080/"
        },
        "id": "bgOX3yNBTTZ4",
        "outputId": "690271f4
