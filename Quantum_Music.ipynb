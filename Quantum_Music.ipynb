{
  "nbformat": 4,
  "nbformat_minor": 0,
  "metadata": {
    "colab": {
      "name": "Quantum Music.ipynb",
      "provenance": [],
      "collapsed_sections": []
    },
    "kernelspec": {
      "name": "python3",
      "display_name": "Python 3"
    },
    "language_info": {
      "name": "python"
    }
  },
  "cells": [
    {
      "cell_type": "code",
      "metadata": {
        "colab": {
          "base_uri": "https://localhost:8080/"
        },
        "id": "oQ8pqm2e89SE",
        "outputId": "e17b2ae6-2f8e-4e6c-e5c3-82f59c640e4d"
      },
      "source": [
        "#install qiskit library\n",
        "pip install qiskit"
      ],
      "execution_count": null,
      "outputs": [],
    },
    {
      "cell_type": "markdown",
      "metadata": {
        "id": "brTOEuh4Df3P"
      },
      "source": [
        "The circuit takes inspiration from the work:\n",
        "Miranda, E.R., Basak, S. (2022). Quantum Computer Music: Foundations and Initial Experiments. In: Miranda, E.R. (eds) Quantum Computer Music. Springer, Cham. https://doi.org/10.1007/978-3-031-13909-3_3"
      ],
      "execution_count": null,
      "outputs": []
    },
    {
      "cell_type": "code",
      "metadata": {
        "id": "CmEgPD---fsm"
      },
      "source": [
        "from qiskit import *\n",
        "\n",
        "#build the circuit for random walk on a cube\n",
        "def circ(input):\n",
        "  qc = QuantumCircuit(5,3)\n",
        "  for i, v in enumerate(input):\n",
        "    #This encodes the output state from previous run as input in the next circuit\n",
        "    if v=='1':\n",
        "      qc.x(2-i)\n",
        "  qc.h(3)\n",
        "  qc.h(4)\n",
        "  qc.cx(4, 0)\n",
        "  qc.x(4)\n",
        "  qc.cx(4, 1)\n",
        "  qc.cx(3, 2)\n",
        "  qc.ccx(4, 3, 1)\n",
        "  qc.x(4)\n",
        "  qc.ccx(4, 3, 0)\n",
        "  qc.x(4)\n",
        "  qc.ccx(4, 3, 2)\n",
        "  qc.barrier(range(3))\n",
        "  qc.measure([0,1,2],[0,1,2])\n",
        "  return qc"
      ],
      "execution_count": null,
      "outputs": []
    },
    {
      "cell_type": "code",
      "metadata": {
        "id": "brTOEuh4Df3P"
      },
      "source": [
        "from qiskit import Aer\n",
        "backend_sim = Aer.get_backend('qasm_simulator')"
      ],
      "execution_count": null,
      "outputs": []
    },
    {
      "cell_type": "code",
      "metadata": {
        "id": "SR-L44F1G_ZS"
      },
      "source": [
        "#Initialize the first note\n",
        "notes = ['001']\n",
        "\n",
        "#Generate a sequence of 101 notes\n",
        "for i in range(100):\n",
        "  qc = circ(notes[i])\n",
        "  job_sim = backend_sim.run(transpile(qc, backend_sim), shots=1024)\n",
        "  result_sim = job_sim.result()\n",
        "  counts = result_sim.get_counts(qc)\n",
        "  max_key = max(counts, key=counts.get)\n",
        "  notes.append(max_key)\n",
        "\n",
        "#Initialize the first rhythm\n",
        "rhythm = ['000']\n",
        "\n",
        "#Generate a sequence of 101 rhythms\n",
        "for i in range(100):\n",
        "  qc = circ(rhythm[i])\n",
        "  job_sim = backend_sim.run(transpile(qc, backend_sim), shots=1024)\n",
        "  result_sim = job_sim.result()\n",
        "  counts = result_sim.get_counts(qc)\n",
        "  max_key = max(counts, key=counts.get)\n",
        "  rhythm.append(max_key)"
      ],
      "execution_count": null,
      "outputs": []
    },
    {
      "cell_type": "code",
      "metadata": {
        "colab": {
          "base_uri": "https://localhost:8080/"
        },
        "id": "8n6-IWZ7Jh6y",
        "outputId": "b496e3f7-3ded-41f6-f5e0-347187d26a07"
      },
      "source": [
        "print(notes)\n",
        "print(rhythm)"
      ],
      "execution_count": null,
      "outputs": [
        {
          "output_type": "stream",
          "name": "stdout",
          "text": [
            "['001', '000', '010', '110', '100', '000', '001', '101', '111', '101', '100', '100', '000', '010', '000', '000', '100', '100', '101', '001', '101', '111', '111', '011', '111', '011', '010', '000', '100', '110', '110', '110', '010', '010', '011', '010', '110', '100', '100', '000', '000', '010', '011', '010', '110', '111', '101', '101', '001', '101', '101', '001', '000', '010', '011', '001', '101', '100', '000', '010', '000', '001', '001', '011', '010', '011', '111', '110', '100', '100', '100', '110', '010', '010', '110', '110', '100', '101', '100', '110', '110', '111', '110', '100', '100', '101', '100', '000', '010', '110', '100', '000', '000', '000', '001', '101', '111', '011', '111', '101', '001']\n",
            "['000', '010', '000', '000', '000', '001', '011', '001', '001', '001', '101', '100', '100', '100', '000', '010', '000', '100', '100', '000', '001', '000', '000', '100', '101', '100', '000', '010', '000', '010', '000', '000', '010', '000', '000', '001', '000', '001', '001', '101', '101', '100', '100', '100', '100', '100', '000', '010', '110', '111', '101', '101', '001', '101', '001', '001', '011', '001', '000', '001', '101', '101', '101', '001', '000', '100', '000', '010', '110', '010', '000', '000', '001', '001', '000', '100', '101', '100', '000', '001', '101', '100', '101', '100', '100', '101', '100', '000', '001', '000', '010', '011', '011', '011', '011', '001', '001', '101', '111', '110', '111']\n"
          ]
        }
      ]
    },
    {
      "cell_type": "code",
      "metadata": {
        "id": "HkDH-uaKHe5b"
      },
      "source": [
        "#Encoding the ouput quantum states to a particular pitch\n",
        "#The numbers correspond to a MIDI frequency \n",
        "note_dic = {'000':60, '001':62, '100':64, '010':65, '011':67, '101':69, '111':71, '110':72}"
      ],
      "execution_count": null,
      "outputs": []
    },
    {
      "cell_type": "code",
      "metadata": {
        "id": "5p4oOVTCSHyC"
      },
      "source": [
        "#Encoding the ouput quantum states to a particular rhythmic beat\n",
        "rhythm_dic = {'000':4, '001':3, '100':1, '010':2, '011':1.5, '101':0.75, '111':0.25, '110':0.5}"
      ],
      "execution_count": null,
      "outputs": []
    },
    {
      "cell_type": "code",
      "metadata": {
        "colab": {
          "base_uri": "https://localhost:8080/"
        },
        "id": "bgOX3yNBTTZ4",
        "outputId": "690271f4-c95c-49c5-9ab8-005770f6bfbb"
      },
      "source": [
        "#Library to create a MIDI file\n",
        "pip install MIDIUtil"
      ],
      "execution_count": null,
      "outputs": [
        {
          "output_type": "stream",
          "name": "stdout",
          "text": [
            "Requirement already satisfied: MIDIUtil in /usr/local/lib/python3.7/dist-packages (1.2.1)\n"
          ]
        }
      ]
    },
    {
      "cell_type": "code",
      "metadata": {
        "id": "Tlnlh9hwTcnY"
      },
      "source": [
        "from midiutil import MIDIFile\n",
        "\n",
        "track    = 0\n",
        "channel  = 2\n",
        "time     = 0   #time at which the note will be played\n",
        "duration = 1   #The duration/beat note will be played for\n",
        "tempo    = 80  #Tempo of the whole arrangement\n",
        "volume   = 100\n",
        "\n",
        "#Create a single track\n",
        "MyMIDI = MIDIFile(1)\n",
        "MyMIDI.addTempo(track,time, tempo)\n",
        "\n",
        "for i in range (len(notes)):\n",
        "\n",
        "  #Duration of the note taken from the generated rhythm sequence\n",
        "  duration = rhythm_dic.get(rhythm[i])\n",
        "\n",
        "  #Pitch of the note taken from the generated note sequence\n",
        "  pitch = note_dic.get(notes[i])\n",
        "\n",
        "  #Add the note for the current duration\n",
        "  #A fifth, seventh and lower octave of the note\n",
        "  MyMIDI.addNote(track, channel, pitch, time, duration, volume)\n",
        "  MyMIDI.addNote(track, channel, pitch-5, time, duration, volume)\n",
        "  MyMIDI.addNote(track, channel, pitch-7, time, duration, volume)\n",
        "  MyMIDI.addNote(track, channel, pitch-12, time, duration, volume)\n",
        "  time = duration + time + 0.25\n",
        "\n",
        "#output the arrangement to a MIDI file\n",
        "with open(\"Quantum.mid\", \"wb\") as output_file:\n",
        "    MyMIDI.writeFile(output_file)"
      ],
      "execution_count": null,
      "outputs": []
    },
    {
      "cell_type": "code",
      "metadata": {
        "id": "1hx5ZFrGVTHO"
      },
      "source": [
        ""
      ],
      "execution_count": null,
      "outputs": []
    }
  ]
}
